{
 "cells": [
  {
   "cell_type": "markdown",
   "metadata": {},
   "source": [
    "# Weather "
   ]
  },
  {
   "cell_type": "code",
   "execution_count": 32,
   "metadata": {},
   "outputs": [],
   "source": [
    "# Dependencies \n",
    "import pandas as pd \n",
    "import matplotlib.pyplot as plt\n",
    "\n",
    "import numpy as np\n",
    "import random\n",
    "from citipy import citipy\n",
    "from datetime import datetime \n",
    "from config import weather_api_key\n",
    "import requests\n",
    "import time\n",
    "from scipy.stats import linregress"
   ]
  },
  {
   "cell_type": "code",
   "execution_count": 2,
   "metadata": {},
   "outputs": [
    {
     "name": "stdout",
     "output_type": "stream",
     "text": [
      "Beginning Data Retrieval     \n",
      "-----------------------------\n"
     ]
    }
   ],
   "source": [
    "# Create list for weather data\n",
    "city_data = []\n",
    "\n",
    "# Print the beginning of the logging\n",
    "print(\"Beginning Data Retrieval     \")\n",
    "print(\"-----------------------------\")\n",
    "\n",
    "# Create counters\n",
    "record_count = 1\n",
    "set_count = 1"
   ]
  },
  {
   "cell_type": "code",
   "execution_count": 3,
   "metadata": {},
   "outputs": [],
   "source": [
    "# Create basic url for API\n",
    "url = \"http://api.openweathermap.org/data/2.5/weather?units=Imperial&APPID=\" + weather_api_key\n"
   ]
  },
  {
   "cell_type": "code",
   "execution_count": 4,
   "metadata": {},
   "outputs": [
    {
     "name": "stdout",
     "output_type": "stream",
     "text": [
      "http://api.openweathermap.org/data/2.5/weather?units=Imperial&APPID=75a7ef83af48c1d25e4337a7d1c7198b\n"
     ]
    }
   ],
   "source": [
    "print(url)"
   ]
  },
  {
   "cell_type": "code",
   "execution_count": 5,
   "metadata": {},
   "outputs": [
    {
     "data": {
      "text/plain": [
       "<zip at 0x2238fb195c0>"
      ]
     },
     "execution_count": 5,
     "metadata": {},
     "output_type": "execute_result"
    }
   ],
   "source": [
    "latitudes = np.random.uniform(-90, 90, size = 1500)\n",
    "longitudes = np.random.uniform(-180, 180, size = 1500)\n",
    "coordinates = zip(latitudes, longitudes)\n",
    "coordinates"
   ]
  },
  {
   "cell_type": "code",
   "execution_count": 6,
   "metadata": {},
   "outputs": [],
   "source": [
    "coordinates_lst = list(coordinates)"
   ]
  },
  {
   "cell_type": "code",
   "execution_count": 7,
   "metadata": {},
   "outputs": [
    {
     "data": {
      "text/plain": [
       "587"
      ]
     },
     "execution_count": 7,
     "metadata": {},
     "output_type": "execute_result"
    }
   ],
   "source": [
    "# Create a list for holding the cities.\n",
    "cities = []\n",
    "\n",
    "# Identify the nearest city for each latitude and longitude combination.\n",
    "for coordinate in coordinates_lst:\n",
    "    city = citipy.nearest_city(coordinate[0],coordinate[1])\n",
    "    city_name = city.city_name\n",
    "    country_name = city.country_code\n",
    "    \n",
    "    # Find unique cities to add to cities list\n",
    "    if city_name not in cities:\n",
    "        cities.append(city_name)\n",
    "    \n",
    "    # See cities and contries\n",
    "    # print(f'{city_name}, {country_name}')\n",
    "\n",
    "# Count amount of unique cities\n",
    "len(cities)"
   ]
  },
  {
   "cell_type": "code",
   "execution_count": 8,
   "metadata": {
    "scrolled": true
   },
   "outputs": [
    {
     "name": "stdout",
     "output_type": "stream",
     "text": [
      "Processing Record 1 of Set 1 | kapaa\n",
      "Processing Record 2 of Set 1 | lebu\n",
      "Processing Record 3 of Set 1 | georgetown\n",
      "Processing Record 4 of Set 1 | bethel\n",
      "Processing Record 5 of Set 1 | bonavista\n",
      "Processing Record 6 of Set 1 | palasa\n",
      "Processing Record 7 of Set 1 | inhambane\n",
      "Processing Record 8 of Set 1 | cape town\n",
      "Processing Record 9 of Set 1 | new norfolk\n",
      "Processing Record 10 of Set 1 | puerto carreno\n",
      "Processing Record 11 of Set 1 | qaanaaq\n",
      "Processing Record 12 of Set 1 | kamenka\n",
      "Processing Record 13 of Set 1 | hilo\n",
      "Processing Record 14 of Set 1 | bambous virieux\n",
      "Processing Record 15 of Set 1 | jamestown\n",
      "Processing Record 16 of Set 1 | ola\n",
      "Processing Record 17 of Set 1 | nzega\n",
      "Processing Record 18 of Set 1 | puerto ayora\n",
      "Processing Record 19 of Set 1 | kavieng\n",
      "Processing Record 20 of Set 1 | bredasdorp\n",
      "Processing Record 21 of Set 1 | hobart\n",
      "Processing Record 22 of Set 1 | milledgeville\n",
      "Processing Record 23 of Set 1 | ouadda\n",
      "Processing Record 24 of Set 1 | dikson\n",
      "Processing Record 25 of Set 1 | punta arenas\n",
      "Processing Record 26 of Set 1 | tasiilaq\n",
      "Processing Record 27 of Set 1 | karasburg\n",
      "Processing Record 28 of Set 1 | east london\n",
      "Processing Record 29 of Set 1 | christchurch\n",
      "Processing Record 30 of Set 1 | rikitea\n",
      "Processing Record 31 of Set 1 | ilebo\n",
      "Processing Record 32 of Set 1 | faya\n",
      "Processing Record 33 of Set 1 | kytlym\n",
      "City not found. Skipping\n",
      "Processing Record 34 of Set 1 | tabiauea\n",
      "City not found. Skipping\n",
      "Processing Record 35 of Set 1 | piacabucu\n",
      "Processing Record 36 of Set 1 | vaini\n",
      "Processing Record 37 of Set 1 | nicoya\n",
      "Processing Record 38 of Set 1 | bilibino\n",
      "Processing Record 39 of Set 1 | gorno-chuyskiy\n",
      "City not found. Skipping\n",
      "Processing Record 40 of Set 1 | arraial do cabo\n",
      "Processing Record 41 of Set 1 | ust-maya\n",
      "Processing Record 42 of Set 1 | hermanus\n",
      "Processing Record 43 of Set 1 | illoqqortoormiut\n",
      "City not found. Skipping\n",
      "Processing Record 44 of Set 1 | poum\n",
      "Processing Record 45 of Set 1 | camocim\n",
      "Processing Record 46 of Set 1 | axim\n",
      "Processing Record 47 of Set 1 | albany\n",
      "Processing Record 48 of Set 1 | matagami\n",
      "Processing Record 49 of Set 1 | huamachuco\n",
      "Processing Record 50 of Set 1 | sao filipe\n",
      "Processing Record 1 of Set 2 | quatre cocos\n",
      "Processing Record 2 of Set 2 | attawapiskat\n",
      "City not found. Skipping\n",
      "Processing Record 3 of Set 2 | busselton\n",
      "Processing Record 4 of Set 2 | ushuaia\n",
      "Processing Record 5 of Set 2 | taolanaro\n",
      "City not found. Skipping\n",
      "Processing Record 6 of Set 2 | nikolskoye\n",
      "Processing Record 7 of Set 2 | malwan\n",
      "City not found. Skipping\n",
      "Processing Record 8 of Set 2 | prince rupert\n",
      "Processing Record 9 of Set 2 | nambucca heads\n",
      "Processing Record 10 of Set 2 | chunoyar\n",
      "Processing Record 11 of Set 2 | airai\n",
      "Processing Record 12 of Set 2 | namatanai\n",
      "Processing Record 13 of Set 2 | umzimvubu\n",
      "City not found. Skipping\n",
      "Processing Record 14 of Set 2 | kushiro\n",
      "Processing Record 15 of Set 2 | gangtok\n",
      "Processing Record 16 of Set 2 | kommunar\n",
      "Processing Record 17 of Set 2 | victoria\n",
      "Processing Record 18 of Set 2 | alofi\n",
      "Processing Record 19 of Set 2 | mataura\n",
      "Processing Record 20 of Set 2 | barrow\n",
      "Processing Record 21 of Set 2 | lebanon\n",
      "Processing Record 22 of Set 2 | alghero\n",
      "Processing Record 23 of Set 2 | saint george\n",
      "Processing Record 24 of Set 2 | mar del plata\n",
      "Processing Record 25 of Set 2 | pevek\n",
      "Processing Record 26 of Set 2 | salalah\n",
      "Processing Record 27 of Set 2 | saleaula\n",
      "City not found. Skipping\n",
      "Processing Record 28 of Set 2 | tiksi\n",
      "Processing Record 29 of Set 2 | chuy\n",
      "Processing Record 30 of Set 2 | butaritari\n",
      "Processing Record 31 of Set 2 | ketchikan\n",
      "Processing Record 32 of Set 2 | biltine\n",
      "Processing Record 33 of Set 2 | yellowknife\n",
      "Processing Record 34 of Set 2 | kisaran\n",
      "Processing Record 35 of Set 2 | agde\n",
      "Processing Record 36 of Set 2 | praia da vitoria\n",
      "Processing Record 37 of Set 2 | ponta do sol\n",
      "Processing Record 38 of Set 2 | seda\n",
      "Processing Record 39 of Set 2 | chokurdakh\n",
      "Processing Record 40 of Set 2 | hovd\n",
      "Processing Record 41 of Set 2 | kodiak\n",
      "Processing Record 42 of Set 2 | huilong\n",
      "Processing Record 43 of Set 2 | bengkulu\n",
      "Processing Record 44 of Set 2 | barentsburg\n",
      "City not found. Skipping\n",
      "Processing Record 45 of Set 2 | saint-ambroise\n",
      "Processing Record 46 of Set 2 | ostersund\n",
      "Processing Record 47 of Set 2 | yulara\n",
      "Processing Record 48 of Set 2 | fairbanks\n",
      "Processing Record 49 of Set 2 | necochea\n",
      "Processing Record 50 of Set 2 | kitimat\n",
      "Processing Record 1 of Set 3 | tuatapere\n",
      "Processing Record 2 of Set 3 | nha trang\n",
      "Processing Record 3 of Set 3 | saldanha\n",
      "Processing Record 4 of Set 3 | coahuayana\n",
      "Processing Record 5 of Set 3 | kruisfontein\n",
      "Processing Record 6 of Set 3 | valleyview\n",
      "Processing Record 7 of Set 3 | san cristobal\n",
      "Processing Record 8 of Set 3 | ponta delgada\n",
      "Processing Record 9 of Set 3 | vila franca do campo\n",
      "Processing Record 10 of Set 3 | mahon\n",
      "Processing Record 11 of Set 3 | ilhabela\n",
      "Processing Record 12 of Set 3 | nizhneyansk\n",
      "City not found. Skipping\n",
      "Processing Record 13 of Set 3 | amderma\n",
      "City not found. Skipping\n",
      "Processing Record 14 of Set 3 | hithadhoo\n",
      "Processing Record 15 of Set 3 | talnakh\n",
      "Processing Record 16 of Set 3 | luba\n",
      "Processing Record 17 of Set 3 | khatanga\n",
      "Processing Record 18 of Set 3 | sambava\n",
      "Processing Record 19 of Set 3 | port alfred\n",
      "Processing Record 20 of Set 3 | bluff\n",
      "Processing Record 21 of Set 3 | saint-philippe\n",
      "Processing Record 22 of Set 3 | tabou\n",
      "Processing Record 23 of Set 3 | launceston\n",
      "Processing Record 24 of Set 3 | karaul\n",
      "City not found. Skipping\n",
      "Processing Record 25 of Set 3 | sao joao da barra\n",
      "Processing Record 26 of Set 3 | oussouye\n",
      "Processing Record 27 of Set 3 | ribeira grande\n",
      "Processing Record 28 of Set 3 | parabel\n",
      "Processing Record 29 of Set 3 | burica\n",
      "City not found. Skipping\n",
      "Processing Record 30 of Set 3 | pacific grove\n",
      "Processing Record 31 of Set 3 | belushya guba\n",
      "City not found. Skipping\n",
      "Processing Record 32 of Set 3 | presidente medici\n",
      "Processing Record 33 of Set 3 | koboko\n",
      "Processing Record 34 of Set 3 | nishihara\n",
      "Processing Record 35 of Set 3 | emerald\n",
      "Processing Record 36 of Set 3 | castro\n",
      "Processing Record 37 of Set 3 | estevan\n",
      "Processing Record 38 of Set 3 | koulikoro\n",
      "Processing Record 39 of Set 3 | pombas\n",
      "Processing Record 40 of Set 3 | hagere selam\n",
      "Processing Record 41 of Set 3 | storsteinnes\n",
      "Processing Record 42 of Set 3 | atuona\n",
      "Processing Record 43 of Set 3 | samalaeulu\n",
      "City not found. Skipping\n",
      "Processing Record 44 of Set 3 | aflu\n",
      "City not found. Skipping\n",
      "Processing Record 45 of Set 3 | luderitz\n",
      "Processing Record 46 of Set 3 | walvis bay\n",
      "Processing Record 47 of Set 3 | ellisras\n",
      "Processing Record 48 of Set 3 | esperance\n",
      "Processing Record 49 of Set 3 | mandalgovi\n",
      "Processing Record 50 of Set 3 | grand-lahou\n",
      "Processing Record 1 of Set 4 | pandan\n",
      "Processing Record 2 of Set 4 | alice springs\n",
      "Processing Record 3 of Set 4 | codrington\n",
      "Processing Record 4 of Set 4 | maldonado\n",
      "Processing Record 5 of Set 4 | katsuura\n",
      "Processing Record 6 of Set 4 | leningradskiy\n",
      "Processing Record 7 of Set 4 | shaping\n",
      "Processing Record 8 of Set 4 | juegang\n",
      "Processing Record 9 of Set 4 | gorontalo\n",
      "Processing Record 10 of Set 4 | avera\n",
      "Processing Record 11 of Set 4 | avarua\n",
      "Processing Record 12 of Set 4 | sentyabrskiy\n",
      "City not found. Skipping\n",
      "Processing Record 13 of Set 4 | maumere\n",
      "Processing Record 14 of Set 4 | maple creek\n",
      "Processing Record 15 of Set 4 | mrakovo\n",
      "Processing Record 16 of Set 4 | lompoc\n",
      "Processing Record 17 of Set 4 | cabo san lucas\n",
      "Processing Record 18 of Set 4 | tres arroyos\n",
      "Processing Record 19 of Set 4 | bur gabo\n",
      "City not found. Skipping\n",
      "Processing Record 20 of Set 4 | vardo\n",
      "Processing Record 21 of Set 4 | tuktoyaktuk\n",
      "Processing Record 22 of Set 4 | vila velha\n",
      "Processing Record 23 of Set 4 | berlevag\n",
      "Processing Record 24 of Set 4 | moose factory\n",
      "Processing Record 25 of Set 4 | skibbereen\n",
      "Processing Record 26 of Set 4 | carnarvon\n",
      "Processing Record 27 of Set 4 | save\n",
      "Processing Record 28 of Set 4 | kaitangata\n",
      "Processing Record 29 of Set 4 | ilulissat\n",
      "Processing Record 30 of Set 4 | hasaki\n",
      "Processing Record 31 of Set 4 | san jose\n",
      "Processing Record 32 of Set 4 | cherskiy\n",
      "Processing Record 33 of Set 4 | saskylakh\n",
      "Processing Record 34 of Set 4 | moree\n",
      "Processing Record 35 of Set 4 | kalmunai\n",
      "Processing Record 36 of Set 4 | yar-sale\n",
      "Processing Record 37 of Set 4 | chara\n",
      "Processing Record 38 of Set 4 | faanui\n",
      "Processing Record 39 of Set 4 | port elizabeth\n",
      "Processing Record 40 of Set 4 | viligili\n",
      "City not found. Skipping\n",
      "Processing Record 41 of Set 4 | vaitupu\n",
      "City not found. Skipping\n",
      "Processing Record 42 of Set 4 | caldwell\n"
     ]
    },
    {
     "name": "stdout",
     "output_type": "stream",
     "text": [
      "Processing Record 43 of Set 4 | mareeba\n",
      "Processing Record 44 of Set 4 | san quintin\n",
      "Processing Record 45 of Set 4 | narsaq\n",
      "Processing Record 46 of Set 4 | geraldton\n",
      "Processing Record 47 of Set 4 | ubinskoye\n",
      "Processing Record 48 of Set 4 | thinadhoo\n",
      "Processing Record 49 of Set 4 | lac du bonnet\n",
      "Processing Record 50 of Set 4 | pisco\n",
      "Processing Record 1 of Set 5 | mayo\n",
      "Processing Record 2 of Set 5 | huron\n",
      "Processing Record 3 of Set 5 | meulaboh\n",
      "Processing Record 4 of Set 5 | alugan\n",
      "Processing Record 5 of Set 5 | paamiut\n",
      "Processing Record 6 of Set 5 | severnoye\n",
      "Processing Record 7 of Set 5 | souillac\n",
      "Processing Record 8 of Set 5 | ust-nera\n",
      "Processing Record 9 of Set 5 | cidreira\n",
      "Processing Record 10 of Set 5 | luena\n",
      "Processing Record 11 of Set 5 | coihaique\n",
      "Processing Record 12 of Set 5 | abha\n",
      "Processing Record 13 of Set 5 | henties bay\n",
      "Processing Record 14 of Set 5 | santa pola\n",
      "Processing Record 15 of Set 5 | barahona\n",
      "Processing Record 16 of Set 5 | mehamn\n",
      "Processing Record 17 of Set 5 | norman wells\n",
      "Processing Record 18 of Set 5 | piryion\n",
      "City not found. Skipping\n",
      "Processing Record 19 of Set 5 | gariaband\n",
      "Processing Record 20 of Set 5 | meyungs\n",
      "City not found. Skipping\n",
      "Processing Record 21 of Set 5 | yerofey pavlovich\n",
      "Processing Record 22 of Set 5 | fontem\n",
      "Processing Record 23 of Set 5 | aklavik\n",
      "Processing Record 24 of Set 5 | chimbote\n",
      "Processing Record 25 of Set 5 | fortuna\n",
      "Processing Record 26 of Set 5 | mahajanga\n",
      "Processing Record 27 of Set 5 | grand river south east\n",
      "City not found. Skipping\n",
      "Processing Record 28 of Set 5 | teloloapan\n",
      "Processing Record 29 of Set 5 | palmares do sul\n",
      "Processing Record 30 of Set 5 | itarema\n",
      "Processing Record 31 of Set 5 | lyaskelya\n",
      "Processing Record 32 of Set 5 | iskele\n",
      "Processing Record 33 of Set 5 | samusu\n",
      "City not found. Skipping\n",
      "Processing Record 34 of Set 5 | nuuk\n",
      "Processing Record 35 of Set 5 | bolobo\n",
      "Processing Record 36 of Set 5 | longlac\n",
      "City not found. Skipping\n",
      "Processing Record 37 of Set 5 | grindavik\n",
      "Processing Record 38 of Set 5 | mazamari\n",
      "Processing Record 39 of Set 5 | popondetta\n",
      "Processing Record 40 of Set 5 | taoudenni\n",
      "Processing Record 41 of Set 5 | anlu\n",
      "Processing Record 42 of Set 5 | gilgit\n",
      "Processing Record 43 of Set 5 | bowen\n",
      "Processing Record 44 of Set 5 | laguna\n",
      "Processing Record 45 of Set 5 | gat\n",
      "Processing Record 46 of Set 5 | gotsu\n",
      "Processing Record 47 of Set 5 | yeniseysk\n",
      "Processing Record 48 of Set 5 | sayyan\n",
      "Processing Record 49 of Set 5 | benedita\n",
      "Processing Record 50 of Set 5 | pochutla\n",
      "Processing Record 1 of Set 6 | mys shmidta\n",
      "City not found. Skipping\n",
      "Processing Record 2 of Set 6 | sistranda\n",
      "Processing Record 3 of Set 6 | upington\n",
      "Processing Record 4 of Set 6 | klaksvik\n",
      "Processing Record 5 of Set 6 | chapais\n",
      "Processing Record 6 of Set 6 | broome\n",
      "Processing Record 7 of Set 6 | severo-kurilsk\n",
      "Processing Record 8 of Set 6 | dunmore east\n",
      "Processing Record 9 of Set 6 | yumen\n",
      "Processing Record 10 of Set 6 | inderborskiy\n",
      "City not found. Skipping\n",
      "Processing Record 11 of Set 6 | penzberg\n",
      "Processing Record 12 of Set 6 | innisfail\n",
      "Processing Record 13 of Set 6 | mercedes\n",
      "Processing Record 14 of Set 6 | guerrero negro\n",
      "Processing Record 15 of Set 6 | flinders\n",
      "Processing Record 16 of Set 6 | haines junction\n",
      "Processing Record 17 of Set 6 | poiana stampei\n",
      "Processing Record 18 of Set 6 | tumannyy\n",
      "City not found. Skipping\n",
      "Processing Record 19 of Set 6 | coquimbo\n",
      "Processing Record 20 of Set 6 | helena\n",
      "Processing Record 21 of Set 6 | tiznit\n",
      "Processing Record 22 of Set 6 | thompson\n",
      "Processing Record 23 of Set 6 | tehri\n",
      "Processing Record 24 of Set 6 | torbay\n",
      "Processing Record 25 of Set 6 | cockburn town\n",
      "Processing Record 26 of Set 6 | claveria\n",
      "Processing Record 27 of Set 6 | belaya gora\n",
      "Processing Record 28 of Set 6 | fangshan\n",
      "Processing Record 29 of Set 6 | abu samrah\n",
      "Processing Record 30 of Set 6 | iqaluit\n",
      "Processing Record 31 of Set 6 | oranjemund\n",
      "Processing Record 32 of Set 6 | port hedland\n",
      "Processing Record 33 of Set 6 | roebourne\n",
      "Processing Record 34 of Set 6 | pingliang\n",
      "Processing Record 35 of Set 6 | cabedelo\n",
      "Processing Record 36 of Set 6 | half moon bay\n",
      "Processing Record 37 of Set 6 | doha\n",
      "Processing Record 38 of Set 6 | port augusta\n",
      "Processing Record 39 of Set 6 | santa fe\n",
      "Processing Record 40 of Set 6 | pangnirtung\n",
      "Processing Record 41 of Set 6 | grottammare\n",
      "Processing Record 42 of Set 6 | kars\n",
      "Processing Record 43 of Set 6 | novosysoyevka\n",
      "Processing Record 44 of Set 6 | sungaipenuh\n",
      "Processing Record 45 of Set 6 | labuhan\n",
      "Processing Record 46 of Set 6 | kirakira\n",
      "Processing Record 47 of Set 6 | san patricio\n",
      "Processing Record 48 of Set 6 | vershino-shakhtaminskiy\n",
      "Processing Record 49 of Set 6 | nanortalik\n",
      "Processing Record 50 of Set 6 | limbang\n",
      "Processing Record 1 of Set 7 | high level\n",
      "Processing Record 2 of Set 7 | roma\n",
      "Processing Record 3 of Set 7 | banepa\n",
      "Processing Record 4 of Set 7 | fez\n",
      "Processing Record 5 of Set 7 | hay river\n",
      "Processing Record 6 of Set 7 | micheweni\n",
      "Processing Record 7 of Set 7 | dingle\n",
      "Processing Record 8 of Set 7 | hangal\n",
      "Processing Record 9 of Set 7 | deputatskiy\n",
      "Processing Record 10 of Set 7 | carutapera\n",
      "Processing Record 11 of Set 7 | les cayes\n",
      "Processing Record 12 of Set 7 | ocampo\n",
      "Processing Record 13 of Set 7 | manzhouli\n",
      "Processing Record 14 of Set 7 | mount isa\n",
      "Processing Record 15 of Set 7 | bratislava\n",
      "Processing Record 16 of Set 7 | dolbeau\n",
      "City not found. Skipping\n",
      "Processing Record 17 of Set 7 | igarka\n",
      "Processing Record 18 of Set 7 | huarmey\n",
      "Processing Record 19 of Set 7 | xuanhua\n",
      "Processing Record 20 of Set 7 | tiarei\n",
      "Processing Record 21 of Set 7 | tukrah\n",
      "Processing Record 22 of Set 7 | halifax\n",
      "Processing Record 23 of Set 7 | dukat\n",
      "Processing Record 24 of Set 7 | tomatlan\n",
      "Processing Record 25 of Set 7 | dwarka\n",
      "Processing Record 26 of Set 7 | amapa\n",
      "Processing Record 27 of Set 7 | cayenne\n",
      "Processing Record 28 of Set 7 | xadani\n",
      "City not found. Skipping\n",
      "Processing Record 29 of Set 7 | lively\n",
      "Processing Record 30 of Set 7 | sonoita\n",
      "Processing Record 31 of Set 7 | nisia floresta\n",
      "Processing Record 32 of Set 7 | waitara\n",
      "Processing Record 33 of Set 7 | jiblah\n",
      "Processing Record 34 of Set 7 | acapulco\n",
      "Processing Record 35 of Set 7 | road town\n",
      "Processing Record 36 of Set 7 | abu dhabi\n",
      "Processing Record 37 of Set 7 | verkhnevilyuysk\n",
      "Processing Record 38 of Set 7 | ambovombe\n",
      "Processing Record 39 of Set 7 | nytva\n",
      "Processing Record 40 of Set 7 | buraydah\n",
      "Processing Record 41 of Set 7 | sibut\n",
      "Processing Record 42 of Set 7 | abalak\n",
      "Processing Record 43 of Set 7 | kamenskoye\n",
      "City not found. Skipping\n",
      "Processing Record 44 of Set 7 | ipixuna\n",
      "Processing Record 45 of Set 7 | kharan\n",
      "Processing Record 46 of Set 7 | rayong\n",
      "Processing Record 47 of Set 7 | hambantota\n",
      "Processing Record 48 of Set 7 | raga\n",
      "Processing Record 49 of Set 7 | brigantine\n",
      "Processing Record 50 of Set 7 | provideniya\n",
      "Processing Record 1 of Set 8 | longyearbyen\n",
      "Processing Record 2 of Set 8 | isiro\n",
      "Processing Record 3 of Set 8 | hokitika\n",
      "Processing Record 4 of Set 8 | brasilia de minas\n",
      "Processing Record 5 of Set 8 | fort saint john\n",
      "City not found. Skipping\n",
      "Processing Record 6 of Set 8 | vargem grande\n",
      "Processing Record 7 of Set 8 | smithers\n",
      "Processing Record 8 of Set 8 | japura\n",
      "Processing Record 9 of Set 8 | namibe\n",
      "Processing Record 10 of Set 8 | grand gaube\n",
      "Processing Record 11 of Set 8 | sivaki\n",
      "Processing Record 12 of Set 8 | northam\n",
      "Processing Record 13 of Set 8 | utiroa\n",
      "City not found. Skipping\n",
      "Processing Record 14 of Set 8 | amga\n",
      "Processing Record 15 of Set 8 | kota tinggi\n",
      "Processing Record 16 of Set 8 | capela\n",
      "Processing Record 17 of Set 8 | comodoro rivadavia\n",
      "Processing Record 18 of Set 8 | upata\n",
      "Processing Record 19 of Set 8 | kysyl-syr\n",
      "Processing Record 20 of Set 8 | qasigiannguit\n",
      "Processing Record 21 of Set 8 | roblin\n",
      "Processing Record 22 of Set 8 | kerchevskiy\n",
      "Processing Record 23 of Set 8 | ust-tsilma\n",
      "Processing Record 24 of Set 8 | ojinaga\n",
      "Processing Record 25 of Set 8 | chaa-khol\n",
      "City not found. Skipping\n",
      "Processing Record 26 of Set 8 | urumqi\n",
      "Processing Record 27 of Set 8 | port hardy\n",
      "Processing Record 28 of Set 8 | mitu\n",
      "Processing Record 29 of Set 8 | lakhimpur\n",
      "Processing Record 30 of Set 8 | hualmay\n",
      "Processing Record 31 of Set 8 | yatsushiro\n",
      "Processing Record 32 of Set 8 | omboue\n",
      "Processing Record 33 of Set 8 | kyzyl-suu\n"
     ]
    },
    {
     "name": "stdout",
     "output_type": "stream",
     "text": [
      "Processing Record 34 of Set 8 | shelburne\n",
      "Processing Record 35 of Set 8 | xapuri\n",
      "Processing Record 36 of Set 8 | kollumerland\n",
      "City not found. Skipping\n",
      "Processing Record 37 of Set 8 | loharu\n",
      "Processing Record 38 of Set 8 | serebryansk\n",
      "Processing Record 39 of Set 8 | miraflores\n",
      "Processing Record 40 of Set 8 | los llanos de aridane\n",
      "Processing Record 41 of Set 8 | rabaul\n",
      "Processing Record 42 of Set 8 | san jeronimo\n",
      "Processing Record 43 of Set 8 | jatai\n",
      "Processing Record 44 of Set 8 | lagoa\n",
      "Processing Record 45 of Set 8 | marcona\n",
      "City not found. Skipping\n",
      "Processing Record 46 of Set 8 | pudozh\n",
      "Processing Record 47 of Set 8 | nesbyen\n",
      "Processing Record 48 of Set 8 | elban\n",
      "Processing Record 49 of Set 8 | bathsheba\n",
      "Processing Record 50 of Set 8 | ampere\n",
      "Processing Record 1 of Set 9 | camana\n",
      "Processing Record 2 of Set 9 | marzuq\n",
      "Processing Record 3 of Set 9 | sioux lookout\n",
      "Processing Record 4 of Set 9 | kasongo-lunda\n",
      "Processing Record 5 of Set 9 | lolua\n",
      "City not found. Skipping\n",
      "Processing Record 6 of Set 9 | anadyr\n",
      "Processing Record 7 of Set 9 | vestmannaeyjar\n",
      "Processing Record 8 of Set 9 | deer lake\n",
      "Processing Record 9 of Set 9 | alamogordo\n",
      "Processing Record 10 of Set 9 | upernavik\n",
      "Processing Record 11 of Set 9 | clyde river\n",
      "Processing Record 12 of Set 9 | surop\n",
      "City not found. Skipping\n",
      "Processing Record 13 of Set 9 | beringovskiy\n",
      "Processing Record 14 of Set 9 | padang\n",
      "Processing Record 15 of Set 9 | boralday\n",
      "Processing Record 16 of Set 9 | hami\n",
      "Processing Record 17 of Set 9 | nouadhibou\n",
      "Processing Record 18 of Set 9 | sannois\n",
      "Processing Record 19 of Set 9 | korla\n",
      "Processing Record 20 of Set 9 | west bay\n",
      "Processing Record 21 of Set 9 | isangel\n",
      "Processing Record 22 of Set 9 | russell\n",
      "Processing Record 23 of Set 9 | lazurne\n",
      "Processing Record 24 of Set 9 | baykit\n",
      "Processing Record 25 of Set 9 | bonthe\n",
      "Processing Record 26 of Set 9 | salinas\n",
      "Processing Record 27 of Set 9 | coldingham\n",
      "Processing Record 28 of Set 9 | arman\n",
      "Processing Record 29 of Set 9 | harnosand\n",
      "Processing Record 30 of Set 9 | santa maria\n",
      "Processing Record 31 of Set 9 | asfi\n",
      "Processing Record 32 of Set 9 | waingapu\n",
      "Processing Record 33 of Set 9 | sorong\n",
      "Processing Record 34 of Set 9 | umm kaddadah\n",
      "Processing Record 35 of Set 9 | namie\n",
      "Processing Record 36 of Set 9 | hofn\n",
      "Processing Record 37 of Set 9 | constitucion\n",
      "Processing Record 38 of Set 9 | latur\n",
      "Processing Record 39 of Set 9 | shirokiy\n",
      "Processing Record 40 of Set 9 | gavle\n",
      "Processing Record 41 of Set 9 | briceno\n",
      "Processing Record 42 of Set 9 | dodge city\n",
      "Processing Record 43 of Set 9 | nelson bay\n",
      "Processing Record 44 of Set 9 | sitka\n",
      "Processing Record 45 of Set 9 | dongsheng\n",
      "Processing Record 46 of Set 9 | kaohsiung\n",
      "Processing Record 47 of Set 9 | maragogi\n",
      "Processing Record 48 of Set 9 | pemangkat\n",
      "Processing Record 49 of Set 9 | oum hadjer\n",
      "Processing Record 50 of Set 9 | sarakhs\n",
      "Processing Record 1 of Set 10 | kastamonu\n",
      "Processing Record 2 of Set 10 | mount gambier\n",
      "Processing Record 3 of Set 10 | yerbogachen\n",
      "Processing Record 4 of Set 10 | buala\n",
      "Processing Record 5 of Set 10 | meadville\n",
      "Processing Record 6 of Set 10 | sibolga\n",
      "Processing Record 7 of Set 10 | san ramon\n",
      "Processing Record 8 of Set 10 | nakusp\n",
      "Processing Record 9 of Set 10 | la ronge\n",
      "Processing Record 10 of Set 10 | batagay-alyta\n",
      "Processing Record 11 of Set 10 | la rioja\n",
      "Processing Record 12 of Set 10 | uberlandia\n",
      "Processing Record 13 of Set 10 | guadalupe y calvo\n",
      "Processing Record 14 of Set 10 | lorengau\n",
      "Processing Record 15 of Set 10 | taltal\n",
      "Processing Record 16 of Set 10 | verwoerdburg\n",
      "City not found. Skipping\n",
      "Processing Record 17 of Set 10 | saint-augustin\n",
      "Processing Record 18 of Set 10 | ngukurr\n",
      "City not found. Skipping\n",
      "Processing Record 19 of Set 10 | san policarpo\n",
      "Processing Record 20 of Set 10 | madhupur\n",
      "Processing Record 21 of Set 10 | jilib\n",
      "Processing Record 22 of Set 10 | galesong\n",
      "Processing Record 23 of Set 10 | lubango\n",
      "Processing Record 24 of Set 10 | saint-pierre\n",
      "Processing Record 25 of Set 10 | batemans bay\n",
      "Processing Record 26 of Set 10 | port lincoln\n",
      "Processing Record 27 of Set 10 | bikin\n",
      "Processing Record 28 of Set 10 | lugoba\n",
      "Processing Record 29 of Set 10 | asau\n",
      "Processing Record 30 of Set 10 | panormos\n",
      "Processing Record 31 of Set 10 | palmer\n",
      "Processing Record 32 of Set 10 | babushkin\n",
      "Processing Record 33 of Set 10 | changji\n",
      "Processing Record 34 of Set 10 | nurota\n",
      "Processing Record 35 of Set 10 | merauke\n",
      "Processing Record 36 of Set 10 | serenje\n",
      "Processing Record 37 of Set 10 | verkhnyaya inta\n",
      "Processing Record 38 of Set 10 | roald\n",
      "Processing Record 39 of Set 10 | shancheng\n",
      "Processing Record 40 of Set 10 | cravo norte\n",
      "Processing Record 41 of Set 10 | hobyo\n",
      "Processing Record 42 of Set 10 | jalu\n",
      "Processing Record 43 of Set 10 | ancud\n",
      "Processing Record 44 of Set 10 | mazagao\n",
      "Processing Record 45 of Set 10 | garden city\n",
      "Processing Record 46 of Set 10 | vylgort\n",
      "City not found. Skipping\n",
      "Processing Record 47 of Set 10 | raha\n",
      "Processing Record 48 of Set 10 | grand-santi\n",
      "Processing Record 49 of Set 10 | mahebourg\n",
      "Processing Record 50 of Set 10 | onguday\n",
      "Processing Record 1 of Set 11 | bababe\n",
      "City not found. Skipping\n",
      "Processing Record 2 of Set 11 | hargeysa\n",
      "Processing Record 3 of Set 11 | sarrebourg\n",
      "Processing Record 4 of Set 11 | kurilsk\n",
      "Processing Record 5 of Set 11 | igarape-miri\n",
      "City not found. Skipping\n",
      "Processing Record 6 of Set 11 | honiara\n",
      "Processing Record 7 of Set 11 | malkangiri\n",
      "Processing Record 8 of Set 11 | kerki\n",
      "City not found. Skipping\n",
      "Processing Record 9 of Set 11 | acuna\n",
      "City not found. Skipping\n",
      "Processing Record 10 of Set 11 | aleksandrovsk-sakhalinskiy\n",
      "Processing Record 11 of Set 11 | almaznyy\n",
      "Processing Record 12 of Set 11 | bargal\n",
      "City not found. Skipping\n",
      "Processing Record 13 of Set 11 | aksu\n",
      "Processing Record 14 of Set 11 | te anau\n",
      "Processing Record 15 of Set 11 | biri\n",
      "Processing Record 16 of Set 11 | college\n",
      "Processing Record 17 of Set 11 | haapiti\n",
      "Processing Record 18 of Set 11 | bubaque\n",
      "Processing Record 19 of Set 11 | gibara\n",
      "Processing Record 20 of Set 11 | richards bay\n",
      "Processing Record 21 of Set 11 | egvekinot\n",
      "Processing Record 22 of Set 11 | shilka\n",
      "Processing Record 23 of Set 11 | caronport\n",
      "Processing Record 24 of Set 11 | formoso do araguaia\n",
      "City not found. Skipping\n",
      "Processing Record 25 of Set 11 | rio cuarto\n",
      "Processing Record 26 of Set 11 | terra santa\n",
      "Processing Record 27 of Set 11 | sarangani\n",
      "Processing Record 28 of Set 11 | crotone\n",
      "Processing Record 29 of Set 11 | petropavlovsk-kamchatskiy\n",
      "Processing Record 30 of Set 11 | turukhansk\n",
      "Processing Record 31 of Set 11 | hereford\n",
      "Processing Record 32 of Set 11 | saint-pascal\n",
      "City not found. Skipping\n",
      "Processing Record 33 of Set 11 | rio gallegos\n",
      "Processing Record 34 of Set 11 | diego de almagro\n",
      "Processing Record 35 of Set 11 | lenger\n",
      "Processing Record 36 of Set 11 | port keats\n",
      "Processing Record 37 of Set 11 | bisignano\n",
      "Processing Record 38 of Set 11 | qui nhon\n",
      "Processing Record 39 of Set 11 | kutum\n",
      "Processing Record 40 of Set 11 | marsa matruh\n",
      "Processing Record 41 of Set 11 | lata\n",
      "Processing Record 42 of Set 11 | deniliquin\n",
      "Processing Record 43 of Set 11 | verenchanka\n",
      "Processing Record 44 of Set 11 | la libertad\n",
      "Processing Record 45 of Set 11 | coolum beach\n",
      "Processing Record 46 of Set 11 | taramangalam\n",
      "Processing Record 47 of Set 11 | tupik\n",
      "Processing Record 48 of Set 11 | ahipara\n",
      "Processing Record 49 of Set 11 | placerville\n",
      "Processing Record 50 of Set 11 | parga\n",
      "Processing Record 1 of Set 12 | toliary\n",
      "City not found. Skipping\n",
      "Processing Record 2 of Set 12 | champerico\n",
      "Processing Record 3 of Set 12 | beisfjord\n",
      "Processing Record 4 of Set 12 | yarmouth\n",
      "Processing Record 5 of Set 12 | hunza\n",
      "City not found. Skipping\n",
      "Processing Record 6 of Set 12 | bekeshevskaya\n",
      "Processing Record 7 of Set 12 | loreto\n",
      "Processing Record 8 of Set 12 | manali\n",
      "Processing Record 9 of Set 12 | kenai\n",
      "Processing Record 10 of Set 12 | ballina\n",
      "Processing Record 11 of Set 12 | coxim\n",
      "Processing Record 12 of Set 12 | lazaro cardenas\n",
      "Processing Record 13 of Set 12 | neiafu\n",
      "Processing Record 14 of Set 12 | shingu\n",
      "Processing Record 15 of Set 12 | nyurba\n",
      "Processing Record 16 of Set 12 | lopatino\n",
      "Processing Record 17 of Set 12 | bentiu\n",
      "Processing Record 18 of Set 12 | el alto\n",
      "Processing Record 19 of Set 12 | cascais\n",
      "Processing Record 20 of Set 12 | sur\n"
     ]
    },
    {
     "name": "stdout",
     "output_type": "stream",
     "text": [
      "Processing Record 21 of Set 12 | udachnyy\n",
      "Processing Record 22 of Set 12 | rochegda\n",
      "Processing Record 23 of Set 12 | arenapolis\n",
      "Processing Record 24 of Set 12 | bria\n",
      "Processing Record 25 of Set 12 | antigonish\n",
      "Processing Record 26 of Set 12 | ogaminana\n",
      "Processing Record 27 of Set 12 | narrabri\n",
      "Processing Record 28 of Set 12 | grand centre\n",
      "City not found. Skipping\n",
      "Processing Record 29 of Set 12 | moussoro\n",
      "Processing Record 30 of Set 12 | ciras\n",
      "City not found. Skipping\n",
      "Processing Record 31 of Set 12 | yamoussoukro\n",
      "Processing Record 32 of Set 12 | znamenskoye\n",
      "Processing Record 33 of Set 12 | maniitsoq\n",
      "Processing Record 34 of Set 12 | maningrida\n",
      "Processing Record 35 of Set 12 | awbari\n",
      "Processing Record 36 of Set 12 | west wendover\n",
      "Processing Record 37 of Set 12 | phetchaburi\n",
      "-----------------------------\n",
      "Data Retrieval Complete      \n",
      "-----------------------------\n"
     ]
    }
   ],
   "source": [
    "# Loop through city Lists \n",
    "for i, city in enumerate(cities):\n",
    "    \n",
    "    # Group cities in sets of 50 \n",
    "    if (i % 50 == 0 and i >= 50):\n",
    "        set_count += 1 \n",
    "        record_count = 1 \n",
    "    \n",
    "    # Create URL for each city\n",
    "    city_url = url + \"&q=\" + city.replace(\" \",\"+\")\n",
    "    \n",
    "    # Log URL, set, and record numbers for each city\n",
    "    print(f\"Processing Record {record_count} of Set {set_count} | {city}\")\n",
    "    record_count += 1\n",
    "\n",
    "# Make an API request for each city \n",
    "    try:\n",
    "       \n",
    "        # Parse the JSON data\n",
    "        city_weather = requests.get(city_url).json()\n",
    "\n",
    "        # Compile needed data\n",
    "        city_city = city.title()\n",
    "        city_country = city_weather['sys']['country']\n",
    "        city_date = datetime.utcfromtimestamp(city_weather['dt']).strftime('%Y-%m-%d %H:%M:%S')\n",
    "        city_lat = city_weather['coord']['lat']\n",
    "        city_lng = city_weather['coord']['lon']\n",
    "        city_max_temp = city_weather['main']['temp_max']\n",
    "        city_hum = city_weather['main']['humidity']\n",
    "        city_cloud = city_weather['clouds']['all']\n",
    "        city_wind = city_weather['wind']['speed']\n",
    "\n",
    "        # Fill City Data list \n",
    "        city_data.append({\"City\": city_city,\n",
    "                         \"Country\": city_country,\n",
    "                         \"Date\": city_date,\n",
    "                         \"Lat\": city_lat,\n",
    "                         \"Lng\": city_lng,\n",
    "                         \"Max Temp\": city_max_temp,\n",
    "                         \"Humidity\": city_hum,\n",
    "                         \"Cloudiness\": city_cloud,\n",
    "                         \"Wind Speed\": city_wind,\n",
    "                         })\n",
    "    #If an error occurs\n",
    "    except: \n",
    "        print(\"City not found. Skipping\")\n",
    "        pass\n",
    "\n",
    "    # Complete Data Retrieval    \n",
    "print(\"-----------------------------\")\n",
    "print(\"Data Retrieval Complete      \")\n",
    "print(\"-----------------------------\")"
   ]
  },
  {
   "cell_type": "code",
   "execution_count": 9,
   "metadata": {},
   "outputs": [
    {
     "data": {
      "text/plain": [
       "534"
      ]
     },
     "execution_count": 9,
     "metadata": {},
     "output_type": "execute_result"
    }
   ],
   "source": [
    "len(city_data)"
   ]
  },
  {
   "cell_type": "code",
   "execution_count": 10,
   "metadata": {},
   "outputs": [
    {
     "data": {
      "text/html": [
       "<div>\n",
       "<style scoped>\n",
       "    .dataframe tbody tr th:only-of-type {\n",
       "        vertical-align: middle;\n",
       "    }\n",
       "\n",
       "    .dataframe tbody tr th {\n",
       "        vertical-align: top;\n",
       "    }\n",
       "\n",
       "    .dataframe thead th {\n",
       "        text-align: right;\n",
       "    }\n",
       "</style>\n",
       "<table border=\"1\" class=\"dataframe\">\n",
       "  <thead>\n",
       "    <tr style=\"text-align: right;\">\n",
       "      <th></th>\n",
       "      <th>City</th>\n",
       "      <th>Country</th>\n",
       "      <th>Date</th>\n",
       "      <th>Lat</th>\n",
       "      <th>Lng</th>\n",
       "      <th>Max Temp</th>\n",
       "      <th>Humidity</th>\n",
       "      <th>Cloudiness</th>\n",
       "      <th>Wind Speed</th>\n",
       "    </tr>\n",
       "  </thead>\n",
       "  <tbody>\n",
       "    <tr>\n",
       "      <th>0</th>\n",
       "      <td>Kapaa</td>\n",
       "      <td>US</td>\n",
       "      <td>2022-04-04 20:45:31</td>\n",
       "      <td>22.0752</td>\n",
       "      <td>-159.3190</td>\n",
       "      <td>78.78</td>\n",
       "      <td>75</td>\n",
       "      <td>40</td>\n",
       "      <td>16.11</td>\n",
       "    </tr>\n",
       "    <tr>\n",
       "      <th>1</th>\n",
       "      <td>Lebu</td>\n",
       "      <td>CL</td>\n",
       "      <td>2022-04-04 20:45:31</td>\n",
       "      <td>-37.6167</td>\n",
       "      <td>-73.6500</td>\n",
       "      <td>57.61</td>\n",
       "      <td>74</td>\n",
       "      <td>42</td>\n",
       "      <td>17.00</td>\n",
       "    </tr>\n",
       "    <tr>\n",
       "      <th>2</th>\n",
       "      <td>Georgetown</td>\n",
       "      <td>MY</td>\n",
       "      <td>2022-04-04 20:43:45</td>\n",
       "      <td>5.4112</td>\n",
       "      <td>100.3354</td>\n",
       "      <td>78.73</td>\n",
       "      <td>93</td>\n",
       "      <td>20</td>\n",
       "      <td>8.05</td>\n",
       "    </tr>\n",
       "    <tr>\n",
       "      <th>3</th>\n",
       "      <td>Bethel</td>\n",
       "      <td>US</td>\n",
       "      <td>2022-04-04 20:45:32</td>\n",
       "      <td>41.3712</td>\n",
       "      <td>-73.4140</td>\n",
       "      <td>56.01</td>\n",
       "      <td>43</td>\n",
       "      <td>20</td>\n",
       "      <td>11.50</td>\n",
       "    </tr>\n",
       "    <tr>\n",
       "      <th>4</th>\n",
       "      <td>Bonavista</td>\n",
       "      <td>CA</td>\n",
       "      <td>2022-04-04 20:45:32</td>\n",
       "      <td>48.6499</td>\n",
       "      <td>-53.1147</td>\n",
       "      <td>35.28</td>\n",
       "      <td>81</td>\n",
       "      <td>96</td>\n",
       "      <td>11.92</td>\n",
       "    </tr>\n",
       "  </tbody>\n",
       "</table>\n",
       "</div>"
      ],
      "text/plain": [
       "         City Country                 Date      Lat       Lng  Max Temp  \\\n",
       "0       Kapaa      US  2022-04-04 20:45:31  22.0752 -159.3190     78.78   \n",
       "1        Lebu      CL  2022-04-04 20:45:31 -37.6167  -73.6500     57.61   \n",
       "2  Georgetown      MY  2022-04-04 20:43:45   5.4112  100.3354     78.73   \n",
       "3      Bethel      US  2022-04-04 20:45:32  41.3712  -73.4140     56.01   \n",
       "4   Bonavista      CA  2022-04-04 20:45:32  48.6499  -53.1147     35.28   \n",
       "\n",
       "   Humidity  Cloudiness  Wind Speed  \n",
       "0        75          40       16.11  \n",
       "1        74          42       17.00  \n",
       "2        93          20        8.05  \n",
       "3        43          20       11.50  \n",
       "4        81          96       11.92  "
      ]
     },
     "execution_count": 10,
     "metadata": {},
     "output_type": "execute_result"
    }
   ],
   "source": [
    "# Add the data to a list in a dict then at the DF\n",
    "city_data_df = pd.DataFrame(city_data)\n",
    "city_data_df.head()"
   ]
  },
  {
   "cell_type": "code",
   "execution_count": 11,
   "metadata": {},
   "outputs": [],
   "source": [
    "# Create CSV file of DF\n",
    "csv_weather_file = \"weather_data/cities.csv\"\n",
    "# Export CSV file \n",
    "city_data_df.to_csv(csv_weather_file, index_label=\"City_ID\")"
   ]
  },
  {
   "cell_type": "markdown",
   "metadata": {},
   "source": [
    "## Plot Weather Data"
   ]
  },
  {
   "cell_type": "code",
   "execution_count": 12,
   "metadata": {},
   "outputs": [],
   "source": [
    "# Extract relevant fields from the DataFrame for plotting.\n",
    "lat = city_data_df[\"Lat\"]\n",
    "max_temp = city_data_df[\"Max Temp\"]\n",
    "hum = city_data_df[\"Humidity\"]\n",
    "clouds = city_data_df[\"Cloudiness\"]\n",
    "wind = city_data_df[\"Wind Speed\"]"
   ]
  },
  {
   "cell_type": "markdown",
   "metadata": {},
   "source": [
    "### Latitude vs Max Temperature"
   ]
  },
  {
   "cell_type": "code",
   "execution_count": 13,
   "metadata": {},
   "outputs": [
    {
     "data": {
      "text/plain": [
       "<function matplotlib.pyplot.show(close=None, block=None)>"
      ]
     },
     "execution_count": 13,
     "metadata": {},
     "output_type": "execute_result"
    },
    {
     "data": {
      "image/png": "[encoded data removed]",
      "text/plain": [
       "<Figure size 720x432 with 1 Axes>"
      ]
     },
     "metadata": {
      "needs_background": "light"
     },
     "output_type": "display_data"
    }
   ],
   "source": [
    "# Create Scatter Chart for Lat vs Max Temp\n",
    "plt.subplots(figsize=(10,6))\n",
    "plt.scatter(lat, max_temp, label='cities', \n",
    "            edgecolor='black', linewidths=1, \n",
    "            alpha=0.8, marker='o')\n",
    "\n",
    "# Add title and labels \n",
    "plt.title(f\"City Latitude vs Max Temperature \" + time.strftime('%x'),\n",
    "          fontweight='semibold', fontsize=14)\n",
    "plt.xlabel(\"Latitude\", fontweight='semibold', fontsize=14)\n",
    "plt.ylabel(\"Max Temperature (F)\",fontweight='semibold', fontsize=14)\n",
    "\n",
    "# Add Grid\n",
    "plt.grid()\n",
    "\n",
    "# Save Fig and show \n",
    "plt.savefig('weather_data/Fig1.png')\n",
    "plt.show"
   ]
  },
  {
   "cell_type": "markdown",
   "metadata": {},
   "source": [
    "### Latitude vs Humidity"
   ]
  },
  {
   "cell_type": "code",
   "execution_count": 14,
   "metadata": {},
   "outputs": [
    {
     "data": {
      "text/plain": [
       "<function matplotlib.pyplot.show(close=None, block=None)>"
      ]
     },
     "execution_count": 14,
     "metadata": {},
     "output_type": "execute_result"
    },
    {
     "data": {
      "image/png": "[encoded data removed]",
      "text/plain": [
       "<Figure size 720x432 with 1 Axes>"
      ]
     },
     "metadata": {
      "needs_background": "light"
     },
     "output_type": "display_data"
    }
   ],
   "source": [
    "# Create Scatter Chart for Lat vs Humidity\n",
    "plt.subplots(figsize=(10,6))\n",
    "plt.scatter(lat, hum, label='cities', \n",
    "            edgecolor='black', linewidths=1, \n",
    "            alpha=0.8, marker='o')\n",
    "\n",
    "# Add title and labels \n",
    "plt.title(f\"City Latitude vs Humidity \" + time.strftime('%x'), fontweight='semibold', fontsize=14)\n",
    "plt.xlabel(\"Latitude\", fontweight='demi', fontsize=14)\n",
    "plt.ylabel(\"Humidity (%)\", fontweight=550, fontsize=14)\n",
    "\n",
    "# Add Grid\n",
    "plt.grid()\n",
    "\n",
    "# Save Fig and show \n",
    "plt.savefig('weather_data/Fig2.png')\n",
    "plt.show"
   ]
  },
  {
   "cell_type": "markdown",
   "metadata": {},
   "source": [
    "### Latitude vs Cloudiness"
   ]
  },
  {
   "cell_type": "code",
   "execution_count": 15,
   "metadata": {},
   "outputs": [
    {
     "data": {
      "text/plain": [
       "<function matplotlib.pyplot.show(close=None, block=None)>"
      ]
     },
     "execution_count": 15,
     "metadata": {},
     "output_type": "execute_result"
    },
    {
     "data": {
      "image/png": "[encoded data removed]",
      "text/plain": [
       "<Figure size 720x432 with 1 Axes>"
      ]
     },
     "metadata": {
      "needs_background": "light"
     },
     "output_type": "display_data"
    }
   ],
   "source": [
    "# Create Scatter Chart for Lat vs Cloudiness\n",
    "plt.subplots(figsize=(10,6))\n",
    "plt.scatter(lat, clouds, label='cities', \n",
    "            edgecolor='black', linewidths=1, \n",
    "            alpha=0.8, marker='o')\n",
    "\n",
    "# Add title and labels \n",
    "plt.title(f\"City Latitude vs Cloudiness \" + time.strftime('%x'),\n",
    "          fontweight='semibold', fontsize=14)\n",
    "plt.xlabel(\"Latitude\", fontweight='semibold', fontsize=14)\n",
    "plt.ylabel(\"Cloudiness (%)\",fontweight='semibold', fontsize=14)\n",
    "\n",
    "# Add Grid\n",
    "plt.grid()\n",
    "\n",
    "# Save Fig and show \n",
    "plt.savefig('weather_data/Fig3.png')\n",
    "plt.show"
   ]
  },
  {
   "cell_type": "markdown",
   "metadata": {},
   "source": [
    "### Latitude vs Wind Speed"
   ]
  },
  {
   "cell_type": "code",
   "execution_count": 16,
   "metadata": {},
   "outputs": [
    {
     "data": {
      "text/plain": [
       "<function matplotlib.pyplot.show(close=None, block=None)>"
      ]
     },
     "execution_count": 16,
     "metadata": {},
     "output_type": "execute_result"
    },
    {
     "data": {
      "image/png": "[encoded data removed]",
      "text/plain": [
       "<Figure size 720x432 with 1 Axes>"
      ]
     },
     "metadata": {
      "needs_background": "light"
     },
     "output_type": "display_data"
    }
   ],
   "source": [
    "# Create Scatter Chart for Lat vs Wind Speed\n",
    "plt.subplots(figsize=(10,6))\n",
    "plt.scatter(lat, wind, label='cities', \n",
    "            edgecolor='black', linewidths=1, \n",
    "            alpha=0.8, marker='o')\n",
    "\n",
    "# Add title and labels \n",
    "plt.title(f\"City Latitude vs Wind Speed \" + time.strftime('%x'),\n",
    "          fontweight='semibold', fontsize=14)\n",
    "plt.xlabel(\"Latitude\", fontweight='semibold', fontsize=14)\n",
    "plt.ylabel(\"Wind Speed (mph)\",fontweight='semibold', fontsize=14)\n",
    "\n",
    "# Add Grid\n",
    "plt.grid()\n",
    "\n",
    "# Save Fig and show \n",
    "plt.savefig('weather_data/Fig4.png')\n",
    "plt.show"
   ]
  },
  {
   "cell_type": "markdown",
   "metadata": {},
   "source": [
    "## Linear Regression of Data by Hemisphere"
   ]
  },
  {
   "cell_type": "markdown",
   "metadata": {},
   "source": [
    "### Linear Regression Function"
   ]
  },
  {
   "cell_type": "code",
   "execution_count": 17,
   "metadata": {},
   "outputs": [],
   "source": [
    "# Create a linear regression function \n",
    "def plot_linear_regression(x_values, y_values, title, y_label, text_coord):\n",
    "    \n",
    "    # Get linear regression data \n",
    "    (slope, intercept, r_value, p_value, stderr) = linregress(x_values, y_values)\n",
    "    lin_reg_lst = (slope, intercept, r_value, p_value, stderr)\n",
    "    lin_reg_df = pd.DataFrame({\"Slope\":slope,\n",
    "                               \"Intercept\":intercept,\n",
    "                               \"r Value\":r_value,\n",
    "                               \"p Value\":p_value,\n",
    "                               \"Std Error\":stderr}, index=[0])\n",
    "    \n",
    "    print(lin_reg_df)\n",
    "    # Calculate regress y_values using linear regression data above \n",
    "    regress_values = x_values * slope + intercept\n",
    "    \n",
    "    # Get equation for linear regression line \n",
    "    line_eq = \"y= \" + str(round(slope,2)) + \"x + \" + str(round(intercept,2))\n",
    "    \n",
    "    # Create Scatter plot with linear regression line \n",
    "    plt.scatter(x_values, y_values)\n",
    "    plt.plot(x_values, regress_values, color=\"r\")\n",
    "    \n",
    "    # Annotate text for linear regression equation \n",
    "    plt.annotate(line_eq, text_coord, fontsize=15, color=\"red\")\n",
    "    plt.title(title)\n",
    "    plt.xlabel('Latitude')\n",
    "    plt.ylabel(y_label)\n",
    "    plt.show()\n",
    "    \n",
    "    "
   ]
  },
  {
   "cell_type": "code",
   "execution_count": 18,
   "metadata": {},
   "outputs": [],
   "source": [
    "# Create Northern and Southern Hemisphere DFs\n",
    "northern_hemi_df = city_data_df.loc[(city_data_df[\"Lat\"] >= 0)]\n",
    "southern_hemi_df = city_data_df.loc[(city_data_df[\"Lat\"] < 0)]"
   ]
  },
  {
   "cell_type": "code",
   "execution_count": 60,
   "metadata": {},
   "outputs": [
    {
     "name": "stdout",
     "output_type": "stream",
     "text": [
      "Using matplotlib backend: Qt5Agg\n"
     ]
    }
   ],
   "source": [
    "%matplotlib"
   ]
  },
  {
   "cell_type": "markdown",
   "metadata": {},
   "source": [
    "### Linear Regression for Latitude vs Max Temperature by Hemisphere"
   ]
  },
  {
   "cell_type": "code",
   "execution_count": 61,
   "metadata": {},
   "outputs": [
    {
     "name": "stdout",
     "output_type": "stream",
     "text": [
      "      Slope  Intercept   r Value        p Value  Std Error\n",
      "0 -1.165952  95.664676 -0.877267  2.141561e-118   0.033392\n"
     ]
    }
   ],
   "source": [
    "# Create Northern Hemisphere Chart\n",
    "plot_linear_regression(northern_hemi_df[\"Lat\"], northern_hemi_df[\"Max Temp\"],\n",
    "                       \"Linear Regression on the Northern Hemisphere \\n for Maximum Temperature\",\n",
    "                       \"Max Temperature (F)\", (5,40))\n",
    "plt.savefig('weather_data/Fig5.png' )"
   ]
  },
  {
   "cell_type": "code",
   "execution_count": 62,
   "metadata": {},
   "outputs": [
    {
     "name": "stdout",
     "output_type": "stream",
     "text": [
      "      Slope  Intercept   r Value       p Value  Std Error\n",
      "0  0.519332  81.402775  0.693482  2.856152e-25   0.042004\n"
     ]
    }
   ],
   "source": [
    "# Create Southern Hemisphere Chart\n",
    "plot_linear_regression(southern_hemi_df[\"Lat\"], southern_hemi_df[\"Max Temp\"],\n",
    "                       \"Linear Regression on the Southern Hemisphere \\n for Maximum Temperature\",\n",
    "                       \"Max Temperature (F)\", (-30,36))\n",
    "plt.savefig('weather_data/Fig6.png')"
   ]
  },
  {
   "cell_type": "markdown",
   "metadata": {},
   "source": [
    "### Linear Regression for Latitude vs Humidity by Hemisphere"
   ]
  },
  {
   "cell_type": "code",
   "execution_count": 63,
   "metadata": {},
   "outputs": [
    {
     "name": "stdout",
     "output_type": "stream",
     "text": [
      "      Slope  Intercept   r Value       p Value  Std Error\n",
      "0  0.344521  53.455588  0.278747  5.641973e-08   0.062129\n"
     ]
    }
   ],
   "source": [
    "# Create Northern Hemisphere Chart\n",
    "plot_linear_regression(northern_hemi_df[\"Lat\"], northern_hemi_df[\"Humidity\"],\n",
    "                       \"Linear Regression on the Northern Hemisphere \\n for Humidity \",\n",
    "                       \"Humidity (%)\", (0,5))\n",
    "plt.savefig('weather_data/Fig7.png')"
   ]
  },
  {
   "cell_type": "code",
   "execution_count": 64,
   "metadata": {},
   "outputs": [
    {
     "name": "stdout",
     "output_type": "stream",
     "text": [
      "      Slope  Intercept   r Value   p Value  Std Error\n",
      "0  0.324202   84.50888  0.265574  0.000523   0.091623\n"
     ]
    }
   ],
   "source": [
    "# Create Southern Hemisphere Chart\n",
    "plot_linear_regression(southern_hemi_df[\"Lat\"], southern_hemi_df[\"Humidity\"],\n",
    "                       \"Linear Regression on the Southern Hemisphere \\n for Humidity \",\n",
    "                       \"Humidity (%)\", (-30,5))\n",
    "plt.savefig('weather_data/Fig8.png')"
   ]
  },
  {
   "cell_type": "markdown",
   "metadata": {},
   "source": [
    "### Linear Regression for Latitude vs Cloudiness by Hemisphere"
   ]
  },
  {
   "cell_type": "code",
   "execution_count": 65,
   "metadata": {},
   "outputs": [
    {
     "name": "stdout",
     "output_type": "stream",
     "text": [
      "      Slope  Intercept   r Value  p Value  Std Error\n",
      "0  0.459174  40.215113  0.228604  0.00001   0.102351\n"
     ]
    }
   ],
   "source": [
    "# Create Northern Hemisphere Chart\n",
    "plot_linear_regression(northern_hemi_df[\"Lat\"], northern_hemi_df[\"Cloudiness\"],\n",
    "                       \"Linear Regression on the Northern Hemisphere \\n for Cloudiness\",\n",
    "                       \"Cloudiness (%)\", (0,28))\n",
    "plt.savefig('weather_data/Fig9.png')"
   ]
  },
  {
   "cell_type": "code",
   "execution_count": 66,
   "metadata": {},
   "outputs": [
    {
     "name": "stdout",
     "output_type": "stream",
     "text": [
      "     Slope  Intercept   r Value   p Value  Std Error\n",
      "0  0.50935  58.856319  0.169141  0.028879    0.23106\n"
     ]
    }
   ],
   "source": [
    "# Create Southern Hemisphere Chart\n",
    "plot_linear_regression(southern_hemi_df[\"Lat\"], southern_hemi_df[\"Cloudiness\"],\n",
    "                       \"Linear Regression on the Southern Hemisphere \\n for Cloudiness\",\n",
    "                       \"Cloudiness (%)\", (-55,8))\n",
    "plt.savefig('weather_data/Fig10.png')"
   ]
  },
  {
   "cell_type": "markdown",
   "metadata": {},
   "source": [
    "### Linear Regression for Latitude vs Wind Speed by Hemisphere"
   ]
  },
  {
   "cell_type": "code",
   "execution_count": 67,
   "metadata": {},
   "outputs": [
    {
     "name": "stdout",
     "output_type": "stream",
     "text": [
      "      Slope  Intercept   r Value   p Value  Std Error\n",
      "0  0.016946   7.805991  0.063005  0.228558    0.01405\n"
     ]
    }
   ],
   "source": [
    "# Create Northern Hemisphere Chart\n",
    "plot_linear_regression(northern_hemi_df[\"Lat\"], northern_hemi_df[\"Wind Speed\"],\n",
    "                       \"Linear Regression on the Northern Hemisphere \\n for Wind Speed\",\n",
    "                       \"Wind Speed (mph)\", (45,26))\n",
    "plt.savefig('weather_data/Fig11.png')"
   ]
  },
  {
   "cell_type": "code",
   "execution_count": 68,
   "metadata": {},
   "outputs": [
    {
     "name": "stdout",
     "output_type": "stream",
     "text": [
      "      Slope  Intercept   r Value   p Value  Std Error\n",
      "0 -0.130534     4.6235 -0.301987  0.000073    0.03208\n"
     ]
    }
   ],
   "source": [
    "# Create Southern Hemisphere Chart\n",
    "plot_linear_regression(southern_hemi_df[\"Lat\"], southern_hemi_df[\"Wind Speed\"],\n",
    "                       \"Linear Regression on the Southern Hemisphere \\n for Wind Speed\",\n",
    "                       \"Wind Speed (mph)\", (-25,28))\n",
    "plt.savefig('weather_data/Fig12.png')"
   ]
  },
  {
   "cell_type": "code",
   "execution_count": null,
   "metadata": {},
   "outputs": [],
   "source": []
  }
 ],
 "metadata": {
  "kernelspec": {
   "display_name": "pythonData",
   "language": "python",
   "name": "pythondata"
  },
  "language_info": {
   "codemirror_mode": {
    "name": "ipython",
    "version": 3
   },
   "file_extension": ".py",
   "mimetype": "text/x-python",
   "name": "python",
   "nbconvert_exporter": "python",
   "pygments_lexer": "ipython3",
   "version": "3.9.7"
  }
 },
 "nbformat": 4,
 "nbformat_minor": 4
}
